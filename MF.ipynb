{
 "cells": [
  {
   "cell_type": "code",
   "execution_count": 1,
   "id": "fe70f55b",
   "metadata": {},
   "outputs": [
    {
     "name": "stderr",
     "output_type": "stream",
     "text": [
      "/var/folders/lp/hgbg7xdj7ql_zq41nk0lt6yw0000gn/T/ipykernel_11044/2615632096.py:2: DeprecationWarning: \n",
      "Pyarrow will become a required dependency of pandas in the next major release of pandas (pandas 3.0),\n",
      "(to allow more performant data types, such as the Arrow string type, and better interoperability with other libraries)\n",
      "but was not found to be installed on your system.\n",
      "If this would cause problems for you,\n",
      "please provide us feedback at https://github.com/pandas-dev/pandas/issues/54466\n",
      "        \n",
      "  import pandas as pd\n"
     ]
    }
   ],
   "source": [
    "import numpy as np\n",
    "import pandas as pd\n",
    "import MF as MF"
   ]
  },
  {
   "cell_type": "code",
   "execution_count": 2,
   "id": "d0b6989c",
   "metadata": {},
   "outputs": [],
   "source": [
    "r_cols = ['user_id', 'movie_id', 'rating', 'unix_timestamp']\n",
    "\n",
    "rating_base = pd.read_csv('data/ml-100k/ub.base', sep='\\t', names=r_cols, encoding='latin-1')\n",
    "rating_test = pd.read_csv('data/ml-100k/ub.test', sep='\\t', names=r_cols, encoding='latin-1')\n",
    "\n",
    "rating_train_matrix = rating_base.values\n",
    "rating_test_matrix = rating_test.values"
   ]
  },
  {
   "cell_type": "code",
   "execution_count": 3,
   "id": "bf6288d5",
   "metadata": {},
   "outputs": [],
   "source": [
    "rating_train_matrix[:, :2] -=1\n",
    "rating_test_matrix[:, :2] -=1"
   ]
  },
  {
   "cell_type": "code",
   "execution_count": 4,
   "id": "5224f29d",
   "metadata": {},
   "outputs": [
    {
     "name": "stdout",
     "output_type": "stream",
     "text": [
      "iter = 100 , loss = 32.268190543060356 , RMSE train = 3.7046893160038574\n"
     ]
    }
   ],
   "source": [
    "rs = MF.MF(\n",
    "    rating_train_matrix,\n",
    "    K = 10,\n",
    "    lamb = .1,\n",
    "    max_iter = 100,\n",
    ")\n",
    "rs.fit()"
   ]
  },
  {
   "cell_type": "code",
   "execution_count": 5,
   "id": "b45d5bfa",
   "metadata": {},
   "outputs": [
    {
     "name": "stdout",
     "output_type": "stream",
     "text": [
      "\n",
      "User-based MF, RMSE = 2.0879746599441256\n"
     ]
    }
   ],
   "source": [
    "RMSE = rs.evaluate_RMSE(rating_test_matrix)\n",
    "print('\\nUser-based MF, RMSE =', RMSE)"
   ]
  }
 ],
 "metadata": {
  "kernelspec": {
   "display_name": "Python 3",
   "language": "python",
   "name": "python3"
  },
  "language_info": {
   "codemirror_mode": {
    "name": "ipython",
    "version": 3
   },
   "file_extension": ".py",
   "mimetype": "text/x-python",
   "name": "python",
   "nbconvert_exporter": "python",
   "pygments_lexer": "ipython3",
   "version": "3.12.1"
  }
 },
 "nbformat": 4,
 "nbformat_minor": 5
}
